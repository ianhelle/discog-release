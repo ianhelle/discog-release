{
 "cells": [
  {
   "cell_type": "code",
   "execution_count": 2,
   "metadata": {},
   "outputs": [],
   "source": [
    "import mutagen\n",
    "\n",
    "\n",
    "wma_file = \"C:/Users/Public/Music/Bruno Sanfilippo/Piano Textures2/01 PIANO TEXTURES 2 Ⅰ.wma\"\n",
    "mg_file = mutagen.File(wma_file)"
   ]
  },
  {
   "cell_type": "code",
   "execution_count": 18,
   "metadata": {},
   "outputs": [
    {
     "data": {
      "text/plain": [
       "['__class__',\n",
       " '__delattr__',\n",
       " '__dict__',\n",
       " '__dir__',\n",
       " '__doc__',\n",
       " '__eq__',\n",
       " '__format__',\n",
       " '__ge__',\n",
       " '__getattribute__',\n",
       " '__gt__',\n",
       " '__hash__',\n",
       " '__init__',\n",
       " '__init_subclass__',\n",
       " '__le__',\n",
       " '__lt__',\n",
       " '__module__',\n",
       " '__ne__',\n",
       " '__new__',\n",
       " '__reduce__',\n",
       " '__reduce_ex__',\n",
       " '__repr__',\n",
       " '__setattr__',\n",
       " '__sizeof__',\n",
       " '__str__',\n",
       " '__subclasshook__',\n",
       " '__weakref__',\n",
       " 'bitrate',\n",
       " 'channels',\n",
       " 'codec_description',\n",
       " 'codec_name',\n",
       " 'codec_type',\n",
       " 'length',\n",
       " 'pprint',\n",
       " 'sample_rate']"
      ]
     },
     "execution_count": 18,
     "metadata": {},
     "output_type": "execute_result"
    }
   ],
   "source": [
    "dir(mg_file.info)"
   ]
  },
  {
   "cell_type": "code",
   "execution_count": 13,
   "metadata": {},
   "outputs": [
    {
     "data": {
      "text/plain": [
       "{'ASFLeakyBucketPairs',\n",
       " 'Author',\n",
       " 'DeviceConformanceTemplate',\n",
       " 'IsVBR',\n",
       " 'MediaFoundationVersion',\n",
       " 'Title',\n",
       " 'WM/AlbumArtist',\n",
       " 'WM/AlbumTitle',\n",
       " 'WM/Composer',\n",
       " 'WM/EncodingTime',\n",
       " 'WM/Genre',\n",
       " 'WM/MediaClassPrimaryID',\n",
       " 'WM/MediaClassSecondaryID',\n",
       " 'WM/MediaPrimaryClassID',\n",
       " 'WM/Picture',\n",
       " 'WM/Provider',\n",
       " 'WM/ProviderStyle',\n",
       " 'WM/Publisher',\n",
       " 'WM/Track',\n",
       " 'WM/TrackNumber',\n",
       " 'WM/UniqueFileIdentifier',\n",
       " 'WM/WMADRCAverageReference',\n",
       " 'WM/WMADRCPeakReference',\n",
       " 'WM/WMCollectionGroupID',\n",
       " 'WM/WMCollectionID',\n",
       " 'WM/WMContentID',\n",
       " 'WM/Year',\n",
       " 'WMFSDKNeeded',\n",
       " 'WMFSDKVersion'}"
      ]
     },
     "execution_count": 13,
     "metadata": {},
     "output_type": "execute_result"
    }
   ],
   "source": [
    "mg_file.keys()"
   ]
  },
  {
   "cell_type": "code",
   "execution_count": 28,
   "metadata": {},
   "outputs": [
    {
     "name": "stdout",
     "output_type": "stream",
     "text": [
      "Piano Textures 2\n",
      "Bruno Sanfilippo\n",
      "Piano Textures 2 Ⅰ\n",
      "0\n",
      "1\n",
      "2009\n",
      "Windows Media Audio 9.2 Lossless\n",
      "Windows Media Audio 9 Lossless\n",
      "VBR Quality 100, 44 kHz, 2 channel 16 bit 1-pass VBR\n",
      "1152000\n",
      "484.159\n",
      "44100\n"
     ]
    }
   ],
   "source": [
    "print(mg_file.tags[\"WM/AlbumTitle\"][0].value)\n",
    "print(mg_file.tags[\"WM/AlbumArtist\"][0].value)\n",
    "print(mg_file.tags[\"Title\"][0].value)\n",
    "print(mg_file.tags[\"WM/Track\"][0].value)\n",
    "print(mg_file.tags[\"WM/TrackNumber\"][0].value)\n",
    "print(mg_file.tags[\"WM/Year\"][0].value)\n",
    "print(mg_file.info.codec_name)\n",
    "print(mg_file.info.codec_type)\n",
    "print(mg_file.info.codec_description)\n",
    "print(mg_file.info.bitrate)\n",
    "print(mg_file.info.length)\n",
    "print(mg_file.info.sample_rate)"
   ]
  },
  {
   "cell_type": "code",
   "execution_count": 30,
   "metadata": {},
   "outputs": [],
   "source": [
    "from pathlib import Path\n",
    "lib_root = \"X:/Music Library\"\n",
    "\n",
    "audio_suffixes = [\".wma\", \".mp3\", \".flac\"]\n",
    "count = 0\n",
    "for dir_file in Path(lib_root).glob(\"**\"):\n",
    "    if dir_file.is_file() and dir_file.suffix.casefold() in audio_suffixes:\n",
    "        mu_file = mutagen.File(str(dir_file))\n",
    "        if dir_file.suffix.casefold() == \".mp3\":\n",
    "            print(\"MP3\", dir_file)\n",
    "            continue\n",
    "        elif dir_file.suffix.casefold() == \".wma\":\n",
    "            if mu_file.mg_file.info.codec_name != \"Windows Media Audio 9.2 Lossless\":\n",
    "                print(\"WMA\", mu_file.mg_file.info.codec_name, dir_file)\n",
    "                continue\n",
    "        print(\".\", end=\"\")\n",
    "    count += 1\n",
    "    if count > 2000:\n",
    "        break"
   ]
  },
  {
   "cell_type": "code",
   "execution_count": null,
   "metadata": {},
   "outputs": [],
   "source": []
  }
 ],
 "metadata": {
  "kernelspec": {
   "display_name": "Python (discog)",
   "language": "python",
   "name": "discog"
  },
  "language_info": {
   "codemirror_mode": {
    "name": "ipython",
    "version": 3
   },
   "file_extension": ".py",
   "mimetype": "text/x-python",
   "name": "python",
   "nbconvert_exporter": "python",
   "pygments_lexer": "ipython3",
   "version": "3.8.1"
  },
  "widgets": {
   "application/vnd.jupyter.widget-state+json": {
    "state": {},
    "version_major": 2,
    "version_minor": 0
   }
  }
 },
 "nbformat": 4,
 "nbformat_minor": 4
}
